{
  "nbformat": 4,
  "nbformat_minor": 0,
  "metadata": {
    "colab": {
      "provenance": [],
      "authorship_tag": "ABX9TyOtMKPOQ7xPA2Nyuu9w3C5S",
      "include_colab_link": true
    },
    "kernelspec": {
      "name": "python3",
      "display_name": "Python 3"
    },
    "language_info": {
      "name": "python"
    }
  },
  "cells": [
    {
      "cell_type": "markdown",
      "metadata": {
        "id": "view-in-github",
        "colab_type": "text"
      },
      "source": [
        "<a href=\"https://colab.research.google.com/github/Balestrauser/Python-Learning-Log/blob/main/Dados_python.ipynb\" target=\"_parent\"><img src=\"https://colab.research.google.com/assets/colab-badge.svg\" alt=\"Open In Colab\"/></a>"
      ]
    },
    {
      "cell_type": "markdown",
      "source": [
        "Laço de repetição para descobrir a frequência de uma coluna."
      ],
      "metadata": {
        "id": "Ya94SHbvq9fO"
      }
    },
    {
      "cell_type": "code",
      "execution_count": 7,
      "metadata": {
        "colab": {
          "base_uri": "https://localhost:8080/"
        },
        "id": "owM3iFSrmktS",
        "outputId": "6fec2ac3-6284-4126-967a-c6c542b16cb7"
      },
      "outputs": [
        {
          "output_type": "stream",
          "name": "stdout",
          "text": [
            "{10: 7, 20: 4, 30: 2}\n"
          ]
        }
      ],
      "source": [
        "ID_Product = [10,20,30,10,10,20,10,10,10,10,20,20,30]\n",
        "# Crie um dicionário vazio para armazenar a frequência\n",
        "frequencia = {}\n",
        "for number in ID_Product:\n",
        "  if number in frequencia:\n",
        "   frequencia[number] += 1\n",
        "  else:\n",
        "    frequencia[number] = 1\n",
        "\n",
        "print (frequencia)"
      ]
    },
    {
      "cell_type": "markdown",
      "source": [
        "Agora vamos tratar uma coluna de dados que precisa de um tratamento de dados"
      ],
      "metadata": {
        "id": "EMGXKVoDrYnM"
      }
    },
    {
      "cell_type": "code",
      "source": [
        "ID_Produto = [\n",
        "    74, 95, '106;20;117;128', 135, '70;133', '5;46;36',\n",
        "    '38;12;8;115', 86, 34, '108;30', '88;34;145', 150, 66\n",
        "]\n",
        "\n",
        "# 2. Crie uma lista vazia para armazenar todos os IDs individuais\n",
        "ids_individuais = []\n",
        "\n",
        "#vamos começar por um verificador, se é uma string ou um inteiro\n",
        "\n",
        "# 3. Iterar e normalizar os dados\n",
        "for item in ID_Produto:\n",
        "    # Verifique se o item é uma string (que pode conter ';')\n",
        "    if isinstance(item, str):\n",
        "        # Use o .split(';') para dividir a string em uma lista de strings\n",
        "        partes = item.split(';')\n",
        "        # a função .split(o que vc quer limitar, dividir, separar da string original)\n",
        "        # Adicione cada parte à lista de ids_individuais\n",
        "        for parte in partes:\n",
        "            # Converte a string para int e adiciona à lista\n",
        "            ids_individuais.append(int(parte))\n",
        "    else:\n",
        "        # Se o item já for um número (int), adicione-o diretamente\n",
        "        ids_individuais.append(item)\n",
        "\n",
        "# Imprima a lista de todos os IDs individuais para ver o resultado\n",
        "print(\"Todos os IDs individuais:\", ids_individuais)\n"
      ],
      "metadata": {
        "colab": {
          "base_uri": "https://localhost:8080/"
        },
        "id": "yAtdqtwnrdi6",
        "outputId": "f1e28fcf-0b45-4a02-d7a5-d4c38f09ede0"
      },
      "execution_count": 8,
      "outputs": [
        {
          "output_type": "stream",
          "name": "stdout",
          "text": [
            "Todos os IDs individuais: [74, 95, 106, 20, 117, 128, 135, 70, 133, 5, 46, 36, 38, 12, 8, 115, 86, 34, 108, 30, 88, 34, 145, 150, 66]\n"
          ]
        }
      ]
    },
    {
      "cell_type": "markdown",
      "source": [
        "Usar o isinstance() para verificar o tipo de dado (se é int ou str).\n",
        "\n",
        "Usar o split() para dividir as strings."
      ],
      "metadata": {
        "id": "CqV2HbXrHNHB"
      }
    },
    {
      "cell_type": "code",
      "source": [
        "ID_Produto_hifen = [\n",
        "    74, 95, '106-20-117-128', 135, '70-133', '5-46-36',\n",
        "    '38-12-8-115', 86, 34, '108-30', '88-34-145', 150, 66\n",
        "]\n",
        "\n",
        "# Crie uma lista vazia para armazenar todos os IDs individuais\n",
        "ids_individuais_hifen = []\n",
        "\n",
        "for item in ID_Produto_hifen:\n",
        "    if isinstance(item, str):\n",
        "        partes = item.split('-')\n",
        "        for parte in partes:\n",
        "            ids_individuais_hifen.append(int(parte))\n",
        "    else:\n",
        "        ids_individuais_hifen.append(item)\n",
        "\n",
        "\n",
        "print(\"Todos os IDs individuais:\", ids_individuais_hifen)"
      ],
      "metadata": {
        "colab": {
          "base_uri": "https://localhost:8080/"
        },
        "id": "HHPFsCvAFHil",
        "outputId": "5a76e876-b0c0-4d76-b177-05843491f730"
      },
      "execution_count": 2,
      "outputs": [
        {
          "output_type": "stream",
          "name": "stdout",
          "text": [
            "Todos os IDs individuais: [74, 95, 106, 20, 117, 128, 135, 70, 133, 5, 46, 36, 38, 12, 8, 115, 86, 34, 108, 30, 88, 34, 145, 150, 66]\n"
          ]
        }
      ]
    }
  ]
}