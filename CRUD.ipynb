{
  "nbformat": 4,
  "nbformat_minor": 0,
  "metadata": {
    "colab": {
      "provenance": [],
      "authorship_tag": "ABX9TyPsXmCA1DPzNKTrbve+Ntpc",
      "include_colab_link": true
    },
    "kernelspec": {
      "name": "python3",
      "display_name": "Python 3"
    },
    "language_info": {
      "name": "python"
    }
  },
  "cells": [
    {
      "cell_type": "markdown",
      "metadata": {
        "id": "view-in-github",
        "colab_type": "text"
      },
      "source": [
        "<a href=\"https://colab.research.google.com/github/Balestrauser/Python-Learning-Log/blob/main/CRUD.ipynb\" target=\"_parent\"><img src=\"https://colab.research.google.com/assets/colab-badge.svg\" alt=\"Open In Colab\"/></a>"
      ]
    },
    {
      "cell_type": "code",
      "execution_count": null,
      "metadata": {
        "colab": {
          "base_uri": "https://localhost:8080/"
        },
        "id": "Zm3D6G7DUkr7",
        "outputId": "913a0872-5909-4a5b-be94-8f21d012943b"
      },
      "outputs": [
        {
          "output_type": "stream",
          "name": "stdout",
          "text": [
            "Mounted at /content/drive\n",
            "O arquivo '/content/drive/MyDrive/arquivo_de_teste.json' JÁ existe.\n",
            "\n",
            "Tentando criar e escrever no arquivo...\n",
            "Processo finalizado!\n",
            "\n",
            "SUCESSO! O arquivo '/content/drive/MyDrive/arquivo_de_teste.json' agora existe.\n"
          ]
        }
      ],
      "source": [
        "import json\n",
        "import os # Biblioteca para interagir com o sistema operacional\n",
        "\n",
        "# Não se esqueça de montar seu Drive antes!\n",
        "from google.colab import drive\n",
        "drive.mount('/content/drive')\n",
        "\n",
        "# Defina um caminho para um arquivo de teste\n",
        "caminho_teste = '/content/drive/MyDrive/arquivo_de_teste.json'\n",
        "\n",
        "# 1. Verificar se o arquivo existe (ele não deve existir ainda)\n",
        "if not os.path.exists(caminho_teste):\n",
        "    print(f\"O arquivo '{caminho_teste}' NÃO existe.\")\n",
        "else:\n",
        "    print(f\"O arquivo '{caminho_teste}' JÁ existe.\")\n",
        "\n",
        "\n",
        "# 2. Criar um dicionário Python qualquer\n",
        "dados_para_salvar = {\n",
        "    \"mensagem\": \"Este arquivo foi criado por um script Python!\",\n",
        "    \"status\": \"sucesso\"\n",
        "}\n",
        "\n",
        "# 3. Usar a função open() com 'w' para criar e escrever no arquivo\n",
        "print(\"\\nTentando criar e escrever no arquivo...\")\n",
        "with open(caminho_teste, 'w', encoding='utf-8') as f:\n",
        "    json.dump(dados_para_salvar, f, indent=2)\n",
        "\n",
        "print(\"Processo finalizado!\")\n",
        "\n",
        "# 4. Verificar novamente se o arquivo existe\n",
        "if os.path.exists(caminho_teste):\n",
        "    print(f\"\\nSUCESSO! O arquivo '{caminho_teste}' agora existe.\")\n",
        "else:\n",
        "    print(\"\\nFALHA! Algo deu errado.\")\n",
        "\n",
        "# Exemplo de estrutura JSON corrigida\n",
        "estrutura_json_corrigida = {\n",
        "    \"Funcionários\":[\n",
        "        {\n",
        "            \"Matrícula\": 1,\n",
        "            \"Nome\": \"Carlos Pepato\",\n",
        "            \"Idade\": 28,\n",
        "            \"Sexo\": \"Masculino\"\n",
        "        },\n",
        "        {\n",
        "           \"Matrícula\": 2,\n",
        "           \"Nome\": \"Giovanni Balestra\",\n",
        "           \"Idade\": 29,\n",
        "           \"Sexo\": \"Masculino\"\n",
        "\n",
        "       }\n",
        "    ]\n",
        "}\n",
        "\n",
        "def carregar_dados():\n",
        "    \"\"\"Carrega os dados do arquivo JSON.\"\"\"\n",
        "    try:\n",
        "        with open('database.json', 'r', encoding='utf-8') as f:\n",
        "            return json.load(f)\n",
        "    except FileNotFoundError:\n",
        "        # Se o arquivo não existir, cria uma estrutura básica\n",
        "        return {\"funcionarios\": [], \"alimentos\": [], \"vendas\": []}\n",
        "\n",
        "def salvar_dados(dados):\n",
        "    \"\"\"Salva os dados no arquivo JSON.\"\"\"\n",
        "    with open('database.json', 'w', encoding='utf-8') as f:\n",
        "        json.dump(dados, f, indent=2, ensure_ascii=False)\n",
        "\n",
        "#Pulei a etapa de salvamento e carregamento dos dados\n",
        "# Função de gerenciamento --\n",
        "\n",
        "def cadastrar_funcionario():\n",
        "    dados = carregar_dados()\n",
        "\n",
        "    # Lógica para gerar uma nova matrícula (pode ser o tamanho da lista + 1)\n",
        "    nova_matricula = len(dados[\"funcionarios\"]) + 1\n",
        "\n",
        "    nome = input(\"Nome do Funcionário\")\n",
        "    idade = int(input(\"Idade: \"))\n",
        "    sexo = input(\"Sexo: \")\n",
        "\n",
        "    novo_funcioario = {\n",
        "\n",
        "                       \"Matrícula\": nova_matricula,\n",
        "                       \"Nome\": nome,\n",
        "                       \"Idade\": idade,\n",
        "                       \"Sexo\": sexo\n",
        "    }\n",
        "    dados[\"funcionarios\"].append(novo_funcioario)\n",
        "    salvar_dados(dados)\n",
        "    print(f\"Funcionário {nome} cadastrado com sucesso! Matrícula: {nova_matricula}\")\n",
        "\n",
        "def listar_funcionarios():\n",
        "    dados = carregar_dados()\n",
        "    print(\"\\n--- Lista de Funcionários ---\")\n",
        "    if not dados[\"funcionarios\"]:\n",
        "        print(\"Nenhum funcionário cadastrado.\")\n",
        "    else:\n",
        "        for func in dados[\"funcionarios\"]:\n",
        "            print(f\"Matrícula: {func['matricula']} | Nome: {func['nome']}\")\n",
        "    print(\"---------------------------\\n\")\n",
        "\n",
        "def cadastrar_alimento():\n",
        "  dados = carregar_dados()\n",
        "  # Lógica para gerar um novo ID\n",
        "    novo_id = len(dados[\"alimentos\"]) + 101 # Começar com IDs diferentes"
      ]
    }
  ]
}